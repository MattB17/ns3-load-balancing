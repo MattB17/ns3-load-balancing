{
 "cells": [
  {
   "cell_type": "markdown",
   "id": "5391b407",
   "metadata": {},
   "source": [
    "# Analysis of Simple Parallel Paths"
   ]
  },
  {
   "cell_type": "code",
   "execution_count": 1,
   "id": "c7eccda6",
   "metadata": {},
   "outputs": [],
   "source": [
    "import os\n",
    "import numpy as np\n",
    "import pandas as pd\n",
    "import matplotlib.pyplot as plt\n",
    "from LoadBalancingAnalysis import utils"
   ]
  },
  {
   "cell_type": "code",
   "execution_count": 2,
   "id": "6fe615f7",
   "metadata": {},
   "outputs": [],
   "source": [
    "dir_path = '/Users/mattb/Desktop/Research/ns3-load-balancing/outputs/simple-parallel-paths/0.5'\n",
    "\n",
    "def construct_lb_path(scheme):\n",
    "    return os.path.join(os.path.join(dir_path, scheme), 'lb-metrics.csv')"
   ]
  },
  {
   "cell_type": "code",
   "execution_count": 4,
   "id": "6d02e4d8",
   "metadata": {},
   "outputs": [],
   "source": [
    "df_ecmp = utils.get_lb_performance_metrics(construct_lb_path('ecmp'))\n",
    "df_spray = utils.get_lb_performance_metrics(construct_lb_path('packet_spray'))\n",
    "df_drill = utils.get_lb_performance_metrics(construct_lb_path('drill'))\n",
    "df_letflow = utils.get_lb_performance_metrics(construct_lb_path('letflow'))"
   ]
  },
  {
   "cell_type": "code",
   "execution_count": 9,
   "id": "583f5e04",
   "metadata": {},
   "outputs": [],
   "source": [
    "df_ecmp_orig = df_ecmp[df_ecmp[\"SourceAddress\"] == \"10.1.1.1\"]\n",
    "df_ecmp_orig_small = df_ecmp_orig[df_ecmp_orig['TimeFirstTxPacket'] < 2000000.0]\n",
    "df_ecmp_orig_large = df_ecmp_orig[df_ecmp_orig['TimeFirstTxPacket'] >= 2000000.0]\n",
    "\n",
    "df_spray_orig = df_spray[df_spray[\"SourceAddress\"] == \"10.1.1.1\"]\n",
    "df_spray_orig_small = df_spray_orig[df_spray_orig['TimeFirstTxPacket'] < 2000000.0]\n",
    "df_spray_orig_large = df_spray_orig[df_spray_orig['TimeFirstTxPacket'] >= 2000000.0]\n",
    "\n",
    "df_drill_orig = df_drill[df_drill[\"SourceAddress\"] == \"10.1.1.1\"]\n",
    "df_drill_orig_small = df_drill_orig[df_drill_orig['TimeFirstTxPacket'] < 2000000.0]\n",
    "df_drill_orig_large = df_drill_orig[df_drill_orig['TimeFirstTxPacket'] >= 2000000.0]\n",
    "\n",
    "df_letflow_orig = df_letflow[df_letflow[\"SourceAddress\"] == \"10.1.1.1\"]\n",
    "df_letflow_orig_small = df_letflow_orig[df_letflow_orig['TimeFirstTxPacket'] < 2000000.0]\n",
    "df_letflow_orig_large = df_letflow_orig[df_letflow_orig['TimeFirstTxPacket'] >= 2000000.0]"
   ]
  },
  {
   "cell_type": "code",
   "execution_count": 10,
   "id": "6c953d13",
   "metadata": {},
   "outputs": [
    {
     "data": {
      "text/html": [
       "<div>\n",
       "<style scoped>\n",
       "    .dataframe tbody tr th:only-of-type {\n",
       "        vertical-align: middle;\n",
       "    }\n",
       "\n",
       "    .dataframe tbody tr th {\n",
       "        vertical-align: top;\n",
       "    }\n",
       "\n",
       "    .dataframe thead th {\n",
       "        text-align: right;\n",
       "    }\n",
       "</style>\n",
       "<table border=\"1\" class=\"dataframe\">\n",
       "  <thead>\n",
       "    <tr style=\"text-align: right;\">\n",
       "      <th></th>\n",
       "      <th>FlowId</th>\n",
       "      <th>SourceAddress</th>\n",
       "      <th>DestinationAddress</th>\n",
       "      <th>TimeFirstTxPacket</th>\n",
       "      <th>TimeLastTxPacket</th>\n",
       "      <th>TimeFirstRxPacket</th>\n",
       "      <th>TimeLastRxPacket</th>\n",
       "      <th>DelaySum</th>\n",
       "      <th>JitterSum</th>\n",
       "      <th>TxBytes</th>\n",
       "      <th>RxBytes</th>\n",
       "      <th>TxPackets</th>\n",
       "      <th>RxPackets</th>\n",
       "      <th>Duration</th>\n",
       "      <th>EffectiveRate</th>\n",
       "    </tr>\n",
       "  </thead>\n",
       "  <tbody>\n",
       "    <tr>\n",
       "      <th>40</th>\n",
       "      <td>41</td>\n",
       "      <td>10.1.1.1</td>\n",
       "      <td>10.1.4.2</td>\n",
       "      <td>2000000.0</td>\n",
       "      <td>2993720.0</td>\n",
       "      <td>2007200.0</td>\n",
       "      <td>3049600.0</td>\n",
       "      <td>42255800.0</td>\n",
       "      <td>1274050.0</td>\n",
       "      <td>333572</td>\n",
       "      <td>324960</td>\n",
       "      <td>596</td>\n",
       "      <td>581</td>\n",
       "      <td>1049600.0</td>\n",
       "      <td>2476830.0</td>\n",
       "    </tr>\n",
       "  </tbody>\n",
       "</table>\n",
       "</div>"
      ],
      "text/plain": [
       "    FlowId SourceAddress DestinationAddress  TimeFirstTxPacket  \\\n",
       "40      41      10.1.1.1           10.1.4.2          2000000.0   \n",
       "\n",
       "    TimeLastTxPacket  TimeFirstRxPacket  TimeLastRxPacket    DelaySum  \\\n",
       "40         2993720.0          2007200.0         3049600.0  42255800.0   \n",
       "\n",
       "    JitterSum  TxBytes  RxBytes  TxPackets  RxPackets   Duration  \\\n",
       "40  1274050.0   333572   324960        596        581  1049600.0   \n",
       "\n",
       "    EffectiveRate  \n",
       "40      2476830.0  "
      ]
     },
     "execution_count": 10,
     "metadata": {},
     "output_type": "execute_result"
    }
   ],
   "source": [
    "df_ecmp_orig_large"
   ]
  },
  {
   "cell_type": "code",
   "execution_count": 11,
   "id": "26e121fd",
   "metadata": {},
   "outputs": [],
   "source": [
    "def print_effective_and_loss_rates(df, scheme):\n",
    "    effective_rate = df['EffectiveRate'] / 1000000.0\n",
    "    loss_rate = (df['TxPackets'] - df['RxPackets']) / df['TxPackets']\n",
    "    print(\"{0} - effective rate: {1}, loss rate: {2}\".format(\n",
    "        scheme, np.mean(effective_rate), np.mean(loss_rate)))"
   ]
  },
  {
   "cell_type": "code",
   "execution_count": 12,
   "id": "88f93906",
   "metadata": {},
   "outputs": [
    {
     "name": "stdout",
     "output_type": "stream",
     "text": [
      "Large Flow Rates\n",
      "================\n",
      "Packet Spray - effective rate: 3.70141, loss rate: 0.0\n",
      "ECMP - effective rate: 2.47683, loss rate: 0.025167785234899327\n",
      "DRILL - effective rate: 6.35663, loss rate: 0.0\n",
      "LetFlow - effective rate: 5.37462, loss rate: 0.0\n"
     ]
    }
   ],
   "source": [
    "print(\"Large Flow Rates\")\n",
    "print(\"================\")\n",
    "print_effective_and_loss_rates(df_spray_orig_large, \"Packet Spray\")\n",
    "print_effective_and_loss_rates(df_ecmp_orig_large, \"ECMP\")\n",
    "print_effective_and_loss_rates(df_drill_orig_large, \"DRILL\")\n",
    "print_effective_and_loss_rates(df_letflow_orig_large, \"LetFlow\")"
   ]
  },
  {
   "cell_type": "code",
   "execution_count": 13,
   "id": "724e617b",
   "metadata": {},
   "outputs": [
    {
     "name": "stdout",
     "output_type": "stream",
     "text": [
      "Small Flow Rates\n",
      "================\n",
      "Packet Spray - effective rate: 1.1069085, loss rate: 0.0\n",
      "ECMP - effective rate: 1.0988159999999998, loss rate: 0.0\n",
      "DRILL - effective rate: 1.1072885000000001, loss rate: 0.0\n",
      "LetFlow - effective rate: 1.106585, loss rate: 0.0\n"
     ]
    }
   ],
   "source": [
    "print(\"Small Flow Rates\")\n",
    "print(\"================\")\n",
    "print_effective_and_loss_rates(df_spray_orig_small, \"Packet Spray\")\n",
    "print_effective_and_loss_rates(df_ecmp_orig_small, \"ECMP\")\n",
    "print_effective_and_loss_rates(df_drill_orig_small, \"DRILL\")\n",
    "print_effective_and_loss_rates(df_letflow_orig_small, \"LetFlow\")"
   ]
  },
  {
   "cell_type": "code",
   "execution_count": 14,
   "id": "bb237bf8",
   "metadata": {},
   "outputs": [],
   "source": [
    "def print_delay_and_jitter_sums(df, scheme):\n",
    "    delay_sum = df['DelaySum'] / 1000000.0\n",
    "    jitter_sum = df['JitterSum'] / 1000000.0\n",
    "    print(\"{0} - delay sum: {1}, jitter sum: {2}\".format(\n",
    "        scheme, np.mean(delay_sum), np.mean(jitter_sum)))"
   ]
  },
  {
   "cell_type": "code",
   "execution_count": 15,
   "id": "9341489b",
   "metadata": {},
   "outputs": [
    {
     "name": "stdout",
     "output_type": "stream",
     "text": [
      "Large Flow Sums\n",
      "================\n",
      "Packet Spray - delay sum: 2.53639, jitter sum: 1.52543\n",
      "ECMP - delay sum: 42.2558, jitter sum: 1.27405\n",
      "DRILL - delay sum: 4.45452, jitter sum: 1.61416\n",
      "LetFlow - delay sum: 6.68186, jitter sum: 2.237\n"
     ]
    }
   ],
   "source": [
    "print(\"Large Flow Sums\")\n",
    "print(\"================\")\n",
    "print_delay_and_jitter_sums(df_spray_orig_large, \"Packet Spray\")\n",
    "print_delay_and_jitter_sums(df_ecmp_orig_large, \"ECMP\")\n",
    "print_delay_and_jitter_sums(df_drill_orig_large, \"DRILL\")\n",
    "print_delay_and_jitter_sums(df_letflow_orig_large, \"LetFlow\")"
   ]
  },
  {
   "cell_type": "code",
   "execution_count": 16,
   "id": "82c0d7e3",
   "metadata": {},
   "outputs": [
    {
     "name": "stdout",
     "output_type": "stream",
     "text": [
      "Small Flow Sums\n",
      "================\n",
      "Packet Spray - delay sum: 2.5773642499999996, jitter sum: 0.38024074999999996\n",
      "ECMP - delay sum: 6.560277900000001, jitter sum: 0.27974274999999993\n",
      "DRILL - delay sum: 2.4171452, jitter sum: 0.16605\n",
      "LetFlow - delay sum: 3.0214109999999996, jitter sum: 0.39288825\n"
     ]
    }
   ],
   "source": [
    "print(\"Small Flow Sums\")\n",
    "print(\"================\")\n",
    "print_delay_and_jitter_sums(df_spray_orig_small, \"Packet Spray\")\n",
    "print_delay_and_jitter_sums(df_ecmp_orig_small, \"ECMP\")\n",
    "print_delay_and_jitter_sums(df_drill_orig_small, \"DRILL\")\n",
    "print_delay_and_jitter_sums(df_letflow_orig_small, \"LetFlow\")"
   ]
  },
  {
   "cell_type": "code",
   "execution_count": null,
   "id": "9d1e2a81",
   "metadata": {},
   "outputs": [],
   "source": []
  }
 ],
 "metadata": {
  "kernelspec": {
   "display_name": "load-balancing",
   "language": "python",
   "name": "load-balancing"
  },
  "language_info": {
   "codemirror_mode": {
    "name": "ipython",
    "version": 3
   },
   "file_extension": ".py",
   "mimetype": "text/x-python",
   "name": "python",
   "nbconvert_exporter": "python",
   "pygments_lexer": "ipython3",
   "version": "3.6.5"
  }
 },
 "nbformat": 4,
 "nbformat_minor": 5
}
